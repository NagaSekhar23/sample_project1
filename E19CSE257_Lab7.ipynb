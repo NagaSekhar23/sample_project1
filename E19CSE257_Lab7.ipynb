{
  "cells": [
    {
      "cell_type": "markdown",
      "metadata": {
        "id": "gPV2DR8KwCMZ"
      },
      "source": [
        "Dependencies "
      ]
    },
    {
      "cell_type": "code",
      "execution_count": null,
      "metadata": {
        "id": "NJHzFAbyTgUr"
      },
      "outputs": [],
      "source": [
        "import numpy\n",
        "import time\n",
        "import multiprocessing\n",
        "import matplotlib.pyplot as plt"
      ]
    },
    {
      "cell_type": "markdown",
      "metadata": {
        "id": "Aa2c0X-SvQiR"
      },
      "source": [
        "Database\n"
      ]
    },
    {
      "cell_type": "code",
      "execution_count": null,
      "metadata": {
        "id": "G9FAUnU1WFQE"
      },
      "outputs": [],
      "source": [
        "def dataset(N):\n",
        "\n",
        "    data = numpy.random.randint(1,200,size=(N))\n",
        "\n",
        "    return data"
      ]
    },
    {
      "cell_type": "markdown",
      "metadata": {
        "id": "7Fa4G0vsYvr5"
      },
      "source": [
        "**Create Funtions**"
      ]
    },
    {
      "cell_type": "code",
      "execution_count": null,
      "metadata": {
        "id": "MnMxPHRfaukN"
      },
      "outputs": [],
      "source": [
        "#O(Logn) complexity\n",
        "def Biinary_Search(Arry,strt,Endd,Funt):\n",
        "\n",
        "    mid = (Endd+strt)//2\n",
        "    if(strt!=Endd):\n",
        "        if(Arry[mid] == Funt):\n",
        "            return mid\n",
        "\n",
        "        elif(Arry[mid]<Funt):\n",
        "            Biinary_Search(Arry,mid+1,Endd,Funt)\n",
        "\n",
        "        elif(Arry[mid]>Funt):\n",
        "            Biinary_Search(Arry,strt,mid-1,Funt)\n",
        "\n",
        "    return -999"
      ]
    },
    {
      "cell_type": "code",
      "execution_count": null,
      "metadata": {
        "id": "M8DQPzpkWuy1"
      },
      "outputs": [],
      "source": [
        "#O(n) complexity\n",
        "def summation(array):\n",
        "\n",
        "    temp = 0\n",
        "    for i in array:\n",
        "        temp = temp + i\n",
        "\n",
        "    return temp"
      ]
    },
    {
      "cell_type": "code",
      "execution_count": null,
      "metadata": {
        "id": "DHVq3Roe_L_l"
      },
      "outputs": [],
      "source": [
        "#find O(NlogN) complexity\n",
        "def mergeSort(array):\n",
        "    \n",
        "    if (len(array) > 1):\n",
        "        \n",
        "        mid = len(array)//2\n",
        "        \n",
        "        Lt = array[:mid]\n",
        "        Rt = array[mid:]\n",
        "        \n",
        "        mergeSort(Lt)\n",
        "        mergeSort(Rt)\n",
        "        \n",
        "        i = j = k = 0\n",
        "        \n",
        "        while (i < len(Lt) and j < len(Rt)):\n",
        "            if(Lt[i] < Rt[j]):\n",
        "                array[k] = Lt[i]\n",
        "                i += 1\n",
        "\n",
        "            else:\n",
        "                array[k] = Rt[j]\n",
        "                j += 1\n",
        "            k += 1\n",
        "            \n",
        "        while (i < len(Lt)):\n",
        "            array[k] = Lt[i]\n",
        "            i += 1\n",
        "            k += 1\n",
        "            \n",
        "        while (j < len(Rt)):\n",
        "            array[k] = Rt[j]\n",
        "            j += 1\n",
        "            k += 1\n",
        "        \n",
        "    return array"
      ]
    },
    {
      "cell_type": "code",
      "execution_count": null,
      "metadata": {
        "id": "F-9h1kX1Y_TI"
      },
      "outputs": [],
      "source": [
        "#find O(n^2) complexity\n",
        "def sort(array,N):\n",
        "    \n",
        "    for i in range(N):\n",
        "        ind = i\n",
        "        for j in range(i+1, N):\n",
        "            if(array[ind] > array[j]):\n",
        "                ind = j\n",
        "\n",
        "        array[i], array[ind] = array[ind], array[i]\n",
        "\n",
        "    return array"
      ]
    },
    {
      "cell_type": "code",
      "execution_count": null,
      "metadata": {
        "id": "R-Ei3sLXZ2_R"
      },
      "outputs": [],
      "source": [
        "#find O(n^3) complexity\n",
        "def equation(n):\n",
        "\n",
        "    solutions = []\n",
        "\n",
        "    for i in range(n+1):\n",
        "        for j in range(n+1):\n",
        "            for k in range(n+1):\n",
        "                if((2*i + 3*j + 5*k) == 108):\n",
        "                    solutions.append([i,j,k])\n",
        "\n",
        "    return solutions"
      ]
    },
    {
      "cell_type": "markdown",
      "metadata": {
        "id": "3RY2fkbTKuZC"
      },
      "source": [
        "**Core Allocation**"
      ]
    },
    {
      "cell_type": "code",
      "execution_count": null,
      "metadata": {
        "id": "mahUnhSfLqOT"
      },
      "outputs": [],
      "source": [
        "N = 100\n",
        "data = list(dataset(N))"
      ]
    },
    {
      "cell_type": "code",
      "execution_count": null,
      "metadata": {
        "id": "z2oLm9RdPujQ"
      },
      "outputs": [],
      "source": [
        "running_time = []\n",
        "labels = [\"Serial\",\"Random\",\"ShortestJob\",\"Knapsack\"]"
      ]
    },
    {
      "cell_type": "code",
      "execution_count": null,
      "metadata": {
        "id": "W9l_Pr9KLvIi"
      },
      "outputs": [],
      "source": [
        "def call(N,function_index):\n",
        "\n",
        "    global data\n",
        "    if(function_index == 0):\n",
        "        data.sort()\n",
        "        return Biinary_Search(data,0,N-1,numpy.random.randint(1,200))\n",
        "    elif(function_index == 1):\n",
        "        return summation(data)\n",
        "    elif(function_index == 2):\n",
        "        return mergeSort(data)\n",
        "    elif(function_index == 3):\n",
        "        return sort(data,N)\n",
        "    elif(function_index == 4):\n",
        "        return equation(N)"
      ]
    },
    {
      "cell_type": "code",
      "execution_count": null,
      "metadata": {
        "id": "xLhFVgRzhAt3"
      },
      "outputs": [],
      "source": [
        "#Serial\n",
        "start_time = time.time()\n",
        "\n",
        "output = Biinary_Search(sorted(data),0,N-1,numpy.random.randint(1,200))\n",
        "output = summation(data)\n",
        "output = mergeSort(data)\n",
        "output = sort(data,N)\n",
        "output = equation(N)\n",
        "running_time.append(time.time()-start_time)"
      ]
    },
    {
      "cell_type": "code",
      "execution_count": null,
      "metadata": {
        "id": "dmNvpTHPKwXo"
      },
      "outputs": [],
      "source": [
        "#Random Allocation of cores\n",
        "schedule =  schedule = numpy.arange(5)\n",
        "numpy.random.shuffle(schedule)\n",
        "start_time = time.time()\n",
        "\n",
        "def dispatcher(args):\n",
        "\n",
        "    return args[0](*args[1:])\n",
        "\n",
        "with multiprocessing.Pool(processes=2) as p:\n",
        "\n",
        "    tasks = {\n",
        "        (call,N,schedule[0]),\n",
        "        (call,N,schedule[1]),\n",
        "        (call,N,schedule[2]),\n",
        "        (call,N,schedule[3]),\n",
        "        (call,N,schedule[4])\n",
        "    }\n",
        "\n",
        "    result = p.map(dispatcher,tasks)\n",
        "\n",
        "running_time.append(time.time() - start_time)"
      ]
    },
    {
      "cell_type": "code",
      "execution_count": null,
      "metadata": {
        "id": "ZeaCTjuEYkNy"
      },
      "outputs": [],
      "source": [
        "#SortestJob first\n",
        "start_time = time.time()\n",
        "\n",
        "def dispatcher(args):\n",
        "\n",
        "    return args[0](*args[1:])\n",
        "\n",
        "with multiprocessing.Pool(processes=2) as p:\n",
        "\n",
        "    tasks = {\n",
        "        (call,N,0),\n",
        "        (call,N,1),\n",
        "        (call,N,2),\n",
        "        (call,N,3),\n",
        "        (call,N,4)\n",
        "    }\n",
        "\n",
        "    result = p.map(dispatcher,tasks)\n",
        "\n",
        "running_time.append(time.time() - start_time)"
      ]
    },
    {
      "cell_type": "code",
      "execution_count": null,
      "metadata": {
        "id": "KND6H8okY76r"
      },
      "outputs": [],
      "source": [
        "#Knapsack based\n",
        "start_time = time.time()\n",
        "running_time.append(time.time() - start_time)"
      ]
    },
    {
      "cell_type": "code",
      "execution_count": null,
      "metadata": {
        "id": "w9WGAHNyy1Nu"
      },
      "outputs": [],
      "source": [
        ""
      ]
    }
  ],
  "metadata": {
    "colab": {
      "collapsed_sections": [
        "uVCX-fVQVGzO",
        "5mxJMtQ2WDbt"
      ],
      "name": "E19CSE257_Lab7.ipynb",
      "provenance": []
    },
    "kernelspec": {
      "display_name": "Python 3",
      "language": "python",
      "name": "python3"
    },
    "language_info": {
      "codemirror_mode": {
        "name": "ipython",
        "version": 3
      },
      "file_extension": ".py",
      "mimetype": "text/x-python",
      "name": "python",
      "nbconvert_exporter": "python",
      "pygments_lexer": "ipython3",
      "version": "3.7.6"
    }
  },
  "nbformat": 4,
  "nbformat_minor": 0
}